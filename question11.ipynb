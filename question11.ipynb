{
 "cells": [
  {
   "cell_type": "markdown",
   "id": "9988c9e3-d9ba-44c0-86aa-d51f66b6cd76",
   "metadata": {},
   "source": [
    "# Malcolm Henderson\n",
    "# Notebook for assignment 7"
   ]
  },
  {
   "cell_type": "code",
   "execution_count": 1,
   "id": "f1b9f777-132b-453f-b928-f298682080a7",
   "metadata": {},
   "outputs": [
    {
     "data": {
      "text/plain": [
       "5.0"
      ]
     },
     "execution_count": 1,
     "metadata": {},
     "output_type": "execute_result"
    }
   ],
   "source": [
    "input = list()\n",
    "input_mean = None\n",
    "\n",
    "def compute_mean(input):\n",
    "    input_mean = sum(input)/len(input)\n",
    "    return input_mean\n",
    "\n",
    "list_mean = compute_mean([2, 4, 6, 8])\n",
    "list_mean    "
   ]
  },
  {
   "cell_type": "markdown",
   "id": "035c814a-2fd7-49c0-9f4b-7ee6715edda7",
   "metadata": {},
   "source": [
    "The function compute_mean will accept a list of values and calculate and display the mean or average of that list. The formulae below are examples of how the mean of a series of numbers is calculated.\n",
    "\n",
    "\\begin{aligned}\n",
    "\\bar{x} = \\frac{x_1+x_2+\\cdots +x_n}{n} = \\frac{1}{n} \\left( \\sum_{i=1}^{n}x_i \\right)\n",
    "\\end{aligned}\n"
   ]
  }
 ],
 "metadata": {
  "kernelspec": {
   "display_name": "assn7_env",
   "language": "python",
   "name": "assn7_env"
  },
  "language_info": {
   "codemirror_mode": {
    "name": "ipython",
    "version": 3
   },
   "file_extension": ".py",
   "mimetype": "text/x-python",
   "name": "python",
   "nbconvert_exporter": "python",
   "pygments_lexer": "ipython3",
   "version": "3.12.2"
  }
 },
 "nbformat": 4,
 "nbformat_minor": 5
}
