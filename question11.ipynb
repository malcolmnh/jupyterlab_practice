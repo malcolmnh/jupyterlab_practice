{
 "cells": [
  {
   "cell_type": "markdown",
   "id": "9988c9e3-d9ba-44c0-86aa-d51f66b6cd76",
   "metadata": {},
   "source": [
    "# Malcolm Henderson\n",
    "# Notebook for assignment 7"
   ]
  },
  {
   "cell_type": "code",
   "execution_count": 19,
   "id": "f1b9f777-132b-453f-b928-f298682080a7",
   "metadata": {},
   "outputs": [
    {
     "data": {
      "text/plain": [
       "5.0"
      ]
     },
     "execution_count": 19,
     "metadata": {},
     "output_type": "execute_result"
    }
   ],
   "source": [
    "input = list()\n",
    "input_mean = None\n",
    "\n",
    "def compute_mean(input):\n",
    "    input_mean = sum(input)/len(input)\n",
    "    return input_mean\n",
    "\n",
    "list_mean = compute_mean([2, 4, 6, 8])\n",
    "list_mean    "
   ]
  },
  {
   "cell_type": "code",
   "execution_count": null,
   "id": "115bd807-2349-48b6-be36-e6ccd787164f",
   "metadata": {},
   "outputs": [],
   "source": []
  },
  {
   "cell_type": "code",
   "execution_count": null,
   "id": "962b1315-275a-48d2-b0fb-dcd3994a42a5",
   "metadata": {},
   "outputs": [],
   "source": []
  }
 ],
 "metadata": {
  "kernelspec": {
   "display_name": "assn7_env",
   "language": "python",
   "name": "assn7_env"
  },
  "language_info": {
   "codemirror_mode": {
    "name": "ipython",
    "version": 3
   },
   "file_extension": ".py",
   "mimetype": "text/x-python",
   "name": "python",
   "nbconvert_exporter": "python",
   "pygments_lexer": "ipython3",
   "version": "3.12.2"
  }
 },
 "nbformat": 4,
 "nbformat_minor": 5
}
