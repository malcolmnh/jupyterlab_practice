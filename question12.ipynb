{
 "cells": [
  {
   "cell_type": "markdown",
   "id": "473a3a5d-6c6e-4c23-9949-a2fd491c9a0a",
   "metadata": {},
   "source": [
    "We are currently working in the following directory:"
   ]
  },
  {
   "cell_type": "code",
   "execution_count": 1,
   "id": "c3213123-bccd-4b3d-8906-bf2d8817e5c1",
   "metadata": {},
   "outputs": [
    {
     "name": "stdout",
     "output_type": "stream",
     "text": [
      "/Users/Malcolm/DSToolbox/jupyterlab_practice\n"
     ]
    }
   ],
   "source": [
    "!pwd"
   ]
  },
  {
   "cell_type": "markdown",
   "id": "3a6f4530-c99e-4c29-a88a-fbf3f79735f4",
   "metadata": {},
   "source": [
    "To time how long it takes to run a Python cell, we could use the timeit command inside a cell as shown below: Followed by the proper use of the timeit command to time the following loop:   \n",
    "```\n",
    "%%timeit\n",
    "for i in range(1_000_000):\n",
    "    i**2\n",
    "```"
   ]
  },
  {
   "cell_type": "code",
   "execution_count": 5,
   "id": "c80e57db-cddf-4863-be17-0a5f786b1847",
   "metadata": {},
   "outputs": [
    {
     "name": "stdout",
     "output_type": "stream",
     "text": [
      "[NbConvertApp] Converting notebook question12.ipynb to html\n",
      "[NbConvertApp] Writing 274262 bytes to question12.html\n"
     ]
    }
   ],
   "source": [
    "!jupyter nbconvert question12.ipynb --to=html --output question12.html"
   ]
  }
 ],
 "metadata": {
  "kernelspec": {
   "display_name": "assn7_env",
   "language": "python",
   "name": "assn7_env"
  },
  "language_info": {
   "codemirror_mode": {
    "name": "ipython",
    "version": 3
   },
   "file_extension": ".py",
   "mimetype": "text/x-python",
   "name": "python",
   "nbconvert_exporter": "python",
   "pygments_lexer": "ipython3",
   "version": "3.12.2"
  }
 },
 "nbformat": 4,
 "nbformat_minor": 5
}
